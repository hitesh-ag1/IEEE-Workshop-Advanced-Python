{
 "cells": [
  {
   "cell_type": "markdown",
   "metadata": {},
   "source": [
    "<h2> Answers </h2>"
   ]
  },
  {
   "cell_type": "code",
   "execution_count": null,
   "metadata": {},
   "outputs": [],
   "source": [
    "#Alternate 1\n",
    "a = [x for x in range(100,1000) if ((x%2==0)and(x%3==0))]\n",
    "\n",
    "#Alternate 2\n",
    "b= [x for x in range(100,1000) if ((x%6==0))]\n",
    "\n",
    "#Alternate 3\n",
    "c=[]\n",
    "for x in range(100,1000):\n",
    "    if (x%6==0):\n",
    "        c.append(x)\n",
    "#Check if all three lists are the same\n",
    "print(a==b,b==c, a==c)"
   ]
  },
  {
   "cell_type": "code",
   "execution_count": null,
   "metadata": {},
   "outputs": [],
   "source": []
  },
  {
   "cell_type": "code",
   "execution_count": 9,
   "metadata": {},
   "outputs": [
    {
     "name": "stdout",
     "output_type": "stream",
     "text": [
      "[0, 1, 2, 3, 4]\n",
      "0\n",
      "0\n",
      "(5, 2, 4)\n",
      "5\n",
      "{'x': 10, 'y': 30}\n",
      "10\n"
     ]
    },
    {
     "data": {
      "text/plain": [
       "\"\\nprint(dict1['dict']['x'])\""
      ]
     },
     "execution_count": 9,
     "metadata": {},
     "output_type": "execute_result"
    }
   ],
   "source": [
    "dict1 = {\n",
    "    'list':[0,1,2,3,4],\n",
    "    'tuple':(5,2,4),\n",
    "    'dict':{'x':10,'y':30}\n",
    "}\n",
    "print(dict1['list'])\n",
    "list1 = [0,1,2,3,4]\n",
    "print(list1[0])\n",
    "\n",
    "print(dict1['list'][0])\n",
    "print(dict1['tuple'])\n",
    "print(dict1['tuple'][0])\n",
    "\n",
    "print(dict1['dict'])\n",
    "dict2 = {'x': 10, 'y': 30}\n",
    "print(dict2['x'])\n",
    "'''\n",
    "print(dict1['dict']['x'])'''"
   ]
  },
  {
   "cell_type": "code",
   "execution_count": 11,
   "metadata": {},
   "outputs": [
    {
     "name": "stdout",
     "output_type": "stream",
     "text": [
      "90\n"
     ]
    }
   ],
   "source": [
    "#list inside a list is known as a nested list. It is used to represent data with more than one dimension\n",
    "\n",
    "list2d = [[1 ,2 ,3 ,4 ],\n",
    "          [0 ,6 ,9 ,10],\n",
    "          [9 ,7 ,12,54],\n",
    "          [61,90,74,1 ]]\n",
    "\n",
    "print(list2d[3][1]) #value of 4th row and 3rd column"
   ]
  },
  {
   "cell_type": "markdown",
   "metadata": {},
   "source": [
    "<h2> Answers </h2>"
   ]
  },
  {
   "cell_type": "code",
   "execution_count": 12,
   "metadata": {},
   "outputs": [
    {
     "data": {
      "text/plain": [
       "2"
      ]
     },
     "execution_count": 12,
     "metadata": {},
     "output_type": "execute_result"
    }
   ],
   "source": [
    "def length(num):\n",
    "    if (int(num/10)==0):\n",
    "        return 1\n",
    "    else:\n",
    "        return (1+length(int(num/10)))\n",
    "    \n",
    "length(11)"
   ]
  },
  {
   "cell_type": "code",
   "execution_count": 6,
   "metadata": {},
   "outputs": [
    {
     "name": "stdout",
     "output_type": "stream",
     "text": [
      "0\n",
      "1\n",
      "1\n",
      "2\n",
      "3\n"
     ]
    }
   ],
   "source": [
    "def fibo(n):\n",
    "    if (n<=1):\n",
    "        return (n)\n",
    "    else:\n",
    "        return (fibo(n-1)+fibo(n-2))\n",
    "#print(fibo(4))\n",
    "for i in range(5):\n",
    "    print(fibo(i))"
   ]
  },
  {
   "cell_type": "code",
   "execution_count": 8,
   "metadata": {},
   "outputs": [
    {
     "name": "stdout",
     "output_type": "stream",
     "text": [
      "0\n",
      "1\n",
      "3\n",
      "6\n",
      "10\n"
     ]
    }
   ],
   "source": [
    "def sumn(n):\n",
    "    if (n==0):\n",
    "        return (n)\n",
    "    else:\n",
    "        return (sumn(n-1)+n)\n",
    "#print(sumn(4))\n",
    "for i in range(5):\n",
    "    print(sumn(i))"
   ]
  },
  {
   "cell_type": "code",
   "execution_count": 45,
   "metadata": {},
   "outputs": [
    {
     "name": "stdout",
     "output_type": "stream",
     "text": [
      "['March 11, 2016']\n",
      "['March 11, 2016']\n",
      "['February 12, 2016']\n",
      "['March 25, 2016']\n"
     ]
    }
   ],
   "source": [
    "import re\n",
    "text = open('scraping_regex.txt') #open text file\n",
    "for line in text: #iterate through every line\n",
    "#return list of dates in that line\n",
    "    x = re.findall('[a-zA-Z]+\\s[0-9][0-9],\\s[0-9][0-9][0-9][0-9]', line) \n",
    "#if a date is found\n",
    "    if len(x) != 0:\n",
    "        print(x)"
   ]
  },
  {
   "cell_type": "code",
   "execution_count": null,
   "metadata": {},
   "outputs": [],
   "source": []
  }
 ],
 "metadata": {
  "kernelspec": {
   "display_name": "Python 3",
   "language": "python",
   "name": "python3"
  },
  "language_info": {
   "codemirror_mode": {
    "name": "ipython",
    "version": 3
   },
   "file_extension": ".py",
   "mimetype": "text/x-python",
   "name": "python",
   "nbconvert_exporter": "python",
   "pygments_lexer": "ipython3",
   "version": "3.6.8"
  }
 },
 "nbformat": 4,
 "nbformat_minor": 2
}
