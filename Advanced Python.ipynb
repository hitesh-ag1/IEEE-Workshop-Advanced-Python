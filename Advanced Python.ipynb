{
 "cells": [
  {
   "cell_type": "markdown",
   "metadata": {},
   "source": [
    "<h1 align=\"center\" >Advanced Python Workshop</h1>"
   ]
  },
  {
   "cell_type": "markdown",
   "metadata": {},
   "source": [
    "<h2> Data structures </h2>"
   ]
  },
  {
   "cell_type": "markdown",
   "metadata": {},
   "source": [
    "A data structure is a collection of data in a certain manner which enables efficient storage and  access. Different programming languages make use of different types of data structures. Python mainly uses 3 types of Data structures - LISTS, TUPLES and DICTIONARY. We will be covering all three types of Data Structures."
   ]
  },
  {
   "cell_type": "markdown",
   "metadata": {},
   "source": [
    "<h3> Lists </h3>\n",
    "\n",
    "List is a linear data stucture where large amount of data is stored in consecutive memory locations. Initialization of a list is very easy."
   ]
  },
  {
   "cell_type": "code",
   "execution_count": null,
   "metadata": {},
   "outputs": [],
   "source": [
    "listName= ['El 1','El 2','El 3','El n']"
   ]
  },
  {
   "cell_type": "markdown",
   "metadata": {},
   "source": [
    "Accessing each element of a list to perform certain operations is called as Traversal. Each element of a list has an index which essentially denotes the position of that unique element. Index numbering starts from 0. This implies that the very first element of a list has an index of 0. Each element can be accessed consecutively by using a for loop and the index number as a counter variable."
   ]
  },
  {
   "cell_type": "code",
   "execution_count": null,
   "metadata": {},
   "outputs": [],
   "source": [
    "fruits = ['Apple','Banana','Orange']\n",
    "\n",
    "print(fruits[0])   #'Apple'\n",
    "print(fruits[1])   #'Banana'\n",
    "print(fruits[2])   #'Orange'\n",
    "print()\n",
    "#to access all elements of the list use a for loop in the following way\n",
    "\n",
    "for fruit in fruits:        #uses a var fruit to check the presence of an element in list   \n",
    "    print (fruit)             #prints the element stored in the var fruit\n",
    "print()    \n",
    "for i in range(len(fruits)):\n",
    "    print(fruits[i])\n",
    "    \n",
    "secLst = [x for x in range(20) if (x%2==0)] #list of even numbers between 1 and 20\n",
    "print(\"List comprehension: \",secLst)"
   ]
  },
  {
   "cell_type": "markdown",
   "metadata": {},
   "source": [
    "<h3> List methods and Operations</h3>\n",
    "\n",
    "There are certain inbuilt library methods which can be used to modify lists to make our tasks very easy. To make this illustration very easy I will perform several operations on the same list like finding the length of list and finding the minimum and maximum values. We will also see how to change elements of the list, sort the list and reverse the order."
   ]
  },
  {
   "cell_type": "code",
   "execution_count": null,
   "metadata": {},
   "outputs": [],
   "source": [
    "import random #library for generating random numbers\n",
    "\n",
    "mainLst = random.sample(range(10),6) # makes a list of 6 elements which are chosen randomly between 1 to 10 \n",
    "print(mainLst)\n",
    "\n",
    "print(\"Length: \",len(mainLst))\n",
    "print(\"Maximum: \",max(mainLst))\n",
    "print(\"Minimum: \",min(mainLst))\n",
    "\n",
    "mainLst.append(10) #adds an element in the end of list\n",
    "print(\"Adding element: \",mainLst)\n",
    "\n",
    "print(\"Index of an element present in list: \",mainLst.index(10)) #index of the element 10\n",
    "\n",
    "mainLst.reverse() #reverses the list\n",
    "print(\"Reverse all elements: \",mainLst)\n",
    "\n",
    "mainLst.sort() #sorts the list in ascending order\n",
    "print(\"Sort: \",mainLst)\n",
    "\n",
    "mainLst.remove(10) #deletes the element 10\n",
    "print(\"Remove an element: \",mainLst)\n",
    "\n",
    "mainLst.pop(2) #removes the element at the third index\n",
    "print(\"Remove an element by its index: \",mainLst)\n",
    "\n",
    "mainLst[0]=10 #assigns the value of the first element to 10\n",
    "print(\"Changing an element: \",mainLst)"
   ]
  },
  {
   "cell_type": "markdown",
   "metadata": {},
   "source": [
    "<h3> Tuples </h3>\n",
    "\n",
    "Tuples is a collection of data where all the items are ordered and unchangeable. This is essentially the only difference between a list and a tuple. Its initialization is just like list but instead of square brackets, round brackets are used."
   ]
  },
  {
   "cell_type": "code",
   "execution_count": null,
   "metadata": {},
   "outputs": [],
   "source": [
    "phones = (\"Apple\",\"Samsung\",\"Oppo\",\"Sony\")\n",
    "\n",
    "phones[0] #Apple\n",
    "phones[1] #Samsung\n",
    "phones[2] #Oppo\n",
    "phones[3] #Sony\n",
    "\n",
    "#to access all elements of the tuple use a for loop in the following way\n",
    "\n",
    "for phone in phones:        #uses a var phone to check the presence of an element in list   \n",
    "    print (phone)             #prints the element stored in the var phone"
   ]
  },
  {
   "cell_type": "markdown",
   "metadata": {},
   "source": [
    "As mentioned before, the items in a tuple are unchangeable. This means that new elements cannot be added, already present elements cannot be deleted and elements cannot be modified. Let's try each one and see what happens."
   ]
  },
  {
   "cell_type": "code",
   "execution_count": null,
   "metadata": {},
   "outputs": [],
   "source": [
    "phones[0]='xyz' #trying to change 1st element to 'xyz'. Will throw an error"
   ]
  },
  {
   "cell_type": "code",
   "execution_count": null,
   "metadata": {},
   "outputs": [],
   "source": [
    "phones.pop(0) #trying to remove 1st element. Will throw an error"
   ]
  },
  {
   "cell_type": "code",
   "execution_count": null,
   "metadata": {},
   "outputs": [],
   "source": [
    "phones.remove(\"Apple\") #trying to remove \"Apple\" from the tuple. Will throw an error"
   ]
  },
  {
   "cell_type": "code",
   "execution_count": null,
   "metadata": {},
   "outputs": [],
   "source": [
    "phones.append(\"xyz\") #trying to add 'xyz'. Will throw an error"
   ]
  },
  {
   "cell_type": "markdown",
   "metadata": {},
   "source": [
    "<h3> Dictionaries </h3>\n",
    "\n",
    "Dictionaries are the implementation of assosciative arrays in Python. This basically means that each element of a dictionary is a key-value pair. All the keys in a dictionary are unique while the values might be same. Unlike tuples, dictionaries are unordered and changeable. Let's see how they are implemented."
   ]
  },
  {
   "cell_type": "code",
   "execution_count": null,
   "metadata": {},
   "outputs": [],
   "source": [
    "#creating a dictionary\n",
    "dict1 = {\n",
    "    'Name':'IEEE NTU Student Branch',\n",
    "    'Event type':'Unknown'\n",
    "}\n",
    "\n",
    "\n",
    "print(\"Dictionary: \",dict1) #prints the whole dictionary\n",
    "\n",
    "print(\"Name: \",dict1['Name']) #prints the value of the key 'Name'\n",
    "print()\n",
    "\n",
    "\n",
    "#print all keys\n",
    "print(\"Keys:\")\n",
    "for keys in dict1: #iterating over the keys\n",
    "    print(keys)\n",
    "\n",
    "\n",
    "print()\n",
    "#print all values\n",
    "print(\"Values:\")\n",
    "for keys in dict1: #iterating over the keys\n",
    "    values = dict1[keys]\n",
    "    print(values)"
   ]
  },
  {
   "cell_type": "markdown",
   "metadata": {},
   "source": [
    "<h3> Using dictionary methods and operations </h3>"
   ]
  },
  {
   "cell_type": "code",
   "execution_count": null,
   "metadata": {},
   "outputs": [],
   "source": [
    "#print all values using a different method\n",
    "print(\"List of values: \", dict1.values()) #dict1.values is a list of Values of the dictionary\n",
    "print(\"Values:\")\n",
    "for pairs in dict1.values(): \n",
    "    print(pairs)\n",
    "        \n",
    "\n",
    "print()\n",
    "print(\"List of key-values together as a tuple: \",dict1.items()) #dict1.items is a list of key,values together as a tuple\n",
    "print()\n",
    "\n",
    "#print keys and values using a different method\n",
    "print(\"Keys and values:\")\n",
    "for keys,values in dict1.items():\n",
    "    print(keys,\":\",values)"
   ]
  },
  {
   "cell_type": "code",
   "execution_count": null,
   "metadata": {},
   "outputs": [],
   "source": [
    "dict1['Event type'] = 'Workshop' #changing value of key 'Event type'\n",
    "print(\"Changed value: \",dict1)\n",
    "\n",
    "print(\"Length: \",len(dict1)) #length of dictionary\n",
    "\n",
    "dict1['Ratings']=100    #adding new key-value pair. Key='Ratings', Value=100.\n",
    "print(\"Updated dict: \",dict1)\n",
    "\n",
    "dict1.pop(\"Event type\")   #removing a key-value pair. Key='Event type'.\n",
    "print(\"Deleted an element: \",dict1)"
   ]
  },
  {
   "cell_type": "markdown",
   "metadata": {},
   "source": [
    "<h2> Exercise Questions for Data Structures </h2>"
   ]
  },
  {
   "cell_type": "markdown",
   "metadata": {},
   "source": [
    "1. Define a list of all numbers between 100 and 1000 which are divisible by both 2 and 3.\n",
    "2. Update this list in such a way that every alternate element of this list is equal to 0.\n",
    "3. Can  lists and tuples be assigned as value in a dictionary?\n",
    "4. What does a list inside a list (nested list) represent? How to access its values?"
   ]
  },
  {
   "cell_type": "markdown",
   "metadata": {},
   "source": [
    "<h2> Recursion </h2>\n",
    "\n",
    "Recursion is a process when a function calls itself over and over again until a certain condition is met. It requires least amount of coding as the function repeatedly calls itself."
   ]
  },
  {
   "cell_type": "code",
   "execution_count": null,
   "metadata": {},
   "outputs": [],
   "source": [
    "def fact(n): #recursive function for computing factorial\n",
    "    if n == 1:\n",
    "        return 1\n",
    "    else:\n",
    "        return n * fact(n-1)\n",
    "print(fact(5))"
   ]
  },
  {
   "cell_type": "markdown",
   "metadata": {},
   "source": [
    "<h3> Applications - Tower of Hanoi </h3>\n",
    "\n",
    "Tower of Hanoi is a mathematical puzzle where there are three rods and n disks. The objective of the puzzle is to move the entire stack to another rod, obeying the following simple rules:\n",
    "1. Only one disk can be moved at a time.\n",
    "2. Each move consists of taking the upper disk from one of the stacks and placing it on top of another stack i.e. a disk can only be moved if it is the uppermost disk on a stack.\n",
    "3. No disk may be placed on top of a smaller disk.\n",
    "\n",
    "This famous game can be solved easily by recursion. Let's make a function for it."
   ]
  },
  {
   "cell_type": "code",
   "execution_count": null,
   "metadata": {},
   "outputs": [],
   "source": [
    "def hanoi(n , fro , to, sup): \n",
    "    if n == 1: \n",
    "        print (\"Move disk 1 from rod\",fro,\"to rod\",to)\n",
    "        return\n",
    "    hanoi(n-1, fro, sup, to) \n",
    "    print (\"Move disk\",n,\"from rod\",fro,\"to rod\",to)\n",
    "    hanoi(n-1, sup, to, fro) "
   ]
  },
  {
   "cell_type": "code",
   "execution_count": null,
   "metadata": {},
   "outputs": [],
   "source": [
    "hanoi(4,'A','C','B')"
   ]
  },
  {
   "cell_type": "markdown",
   "metadata": {},
   "source": [
    "<h2> Exercise Questions for Recursion </h2>\n",
    "\n",
    "1. Write a function that determines how many digits a number has using recursion.\n",
    "2. Write a function which prints the n'th Fibonacci number using recursion.\n",
    "3. Write a function which prints the sum of first n numbers using recursion."
   ]
  },
  {
   "cell_type": "markdown",
   "metadata": {},
   "source": [
    "<h2> RegEx - Regular Expression </h2>\n",
    "\n",
    "A regular expression is a special sequence of characters with specialized syntax which helps in searching strings. RegeX offers four functions that allows for string search. Let's see an example of each function:"
   ]
  },
  {
   "cell_type": "markdown",
   "metadata": {},
   "source": [
    "findall() function - It returns a list of all matches in the order they are found. If no matches are found, it returns an empty list"
   ]
  },
  {
   "cell_type": "code",
   "execution_count": null,
   "metadata": {},
   "outputs": [],
   "source": [
    "import re\n",
    "lst ='It is raining, raining in Singapore is very common. Rain is fun. Rain dance is very famous. Thunderclouds. Sunny. Hailstorm'\n",
    "x = re.findall(\"[Rr]ain\",lst)#if any one of the characters in the square brackets are present, then it will be a match \n",
    "print (x)"
   ]
  },
  {
   "cell_type": "markdown",
   "metadata": {},
   "source": [
    "search() function - It returns a Match Object which stores the location of the first occurence of the searched string in the target string. If no matches are found, None is returned."
   ]
  },
  {
   "cell_type": "code",
   "execution_count": null,
   "metadata": {},
   "outputs": [],
   "source": [
    "strg = \"It is so easy to code with Python beacuse its syntax is very easy.\"\n",
    "print(strg[0])\n",
    "x = re.search(\"\\s[A-Pa-p][Q-Zq-z]\", strg) # \\s stands for whitespace character \n",
    "print (x)\n",
    "\n",
    "print(\"Properties of a match object:-\")\n",
    "print (\"Index of matched string: \",x.start())\n",
    "print (\"Matched string in target string: \",x.group())\n",
    "print (\"Target string: \",x.string)\n",
    "print (\"Span of matched string: \",x.span())"
   ]
  },
  {
   "cell_type": "markdown",
   "metadata": {},
   "source": [
    "split() function - It returns a list of strings which are splitted as soon as a match is found. If no match is found, a list with one element is returned. The maximum number of splits can also be defined using this function."
   ]
  },
  {
   "cell_type": "code",
   "execution_count": null,
   "metadata": {},
   "outputs": [],
   "source": [
    "strg = \"Python is so easy\"\n",
    "x = re.split(\"\\s\", strg) # \\s stands for whitespace character \n",
    "print (x)\n",
    "\n",
    "y = re.split(\"\\s\", strg, 2) # 2 here is the maximum number of splits. By default, max splits is set to 0 which means that infinite number of splits can occur\n",
    "print (y)"
   ]
  },
  {
   "cell_type": "markdown",
   "metadata": {},
   "source": [
    "sub() function - It returns a string where the matched string character is replaced by another specified string character. If match is not found, it will return the same string"
   ]
  },
  {
   "cell_type": "code",
   "execution_count": null,
   "metadata": {},
   "outputs": [],
   "source": [
    "strg = \"Python is so easy\"\n",
    "x = re.sub(\"\\s\",\"!!!\", strg) # \\s stands for whitespace character \n",
    "print (x)"
   ]
  },
  {
   "cell_type": "markdown",
   "metadata": {},
   "source": [
    "<h2> Python File Handling </h2>\n",
    "\n",
    "File Handling is an important part of Python. Reading, writing and creating files outside of Python can be directly done without importing any modules. The main function used for this purpose is open(). Let's see how it is implemented."
   ]
  },
  {
   "cell_type": "code",
   "execution_count": null,
   "metadata": {},
   "outputs": [],
   "source": [
    "!git clone https://github.com/IEEENTU/IEEELearn-2019.git\n",
    "import os\n",
    "os.chdir(\"IEEELearn-2019/data\")"
   ]
  },
  {
   "cell_type": "markdown",
   "metadata": {},
   "source": [
    "<h3> Reading a text file in one go </h3>"
   ]
  },
  {
   "cell_type": "code",
   "execution_count": null,
   "metadata": {},
   "outputs": [],
   "source": [
    "f = open(\"lorem.txt\", \"rt\") #Here r stands for read and t stands for text. \"rt\" is default and does not have to be typed.\n",
    "print(f.read())\n",
    "f.close()"
   ]
  },
  {
   "cell_type": "markdown",
   "metadata": {},
   "source": [
    "<h3> Reading a text file line by line </h3>"
   ]
  },
  {
   "cell_type": "code",
   "execution_count": null,
   "metadata": {},
   "outputs": [],
   "source": [
    "f = open(\"lorem.txt\", \"rt\")\n",
    "print(f.readline())\n",
    "print(f.readline())\n",
    "print(f.readline())\n",
    "f.close()"
   ]
  },
  {
   "cell_type": "markdown",
   "metadata": {},
   "source": [
    "<h3> Reading a text file line by line using a loop </h3>"
   ]
  },
  {
   "cell_type": "code",
   "execution_count": null,
   "metadata": {},
   "outputs": [],
   "source": [
    "f=open(\"lorem.txt\",\"rt\")\n",
    "for x in f:\n",
    "    print(x)\n",
    "f.close()"
   ]
  },
  {
   "cell_type": "markdown",
   "metadata": {},
   "source": [
    "<h3> Writing to the text file </h3>"
   ]
  },
  {
   "cell_type": "code",
   "execution_count": null,
   "metadata": {},
   "outputs": [],
   "source": [
    "f = open(\"lorem.txt\", \"a\") #Here a stands for append. t(text) is default value so no need to define.\n",
    "f.write(\"\\nLorem ipsum is so cool!!!!!\")\n",
    "f.close()\n",
    "f = open(\"lorem.txt\") #Here a stands for append. t(text) is default value so no need to define.\n",
    "print(f.read())\n",
    "f.close()"
   ]
  },
  {
   "cell_type": "code",
   "execution_count": null,
   "metadata": {},
   "outputs": [],
   "source": [
    "f = open(\"lorem2.txt\", \"w\")#Here w stands for append\n",
    "f.write(\"All the previous content in the file has been deleted and new content has been written\")\n",
    "f.close()"
   ]
  },
  {
   "cell_type": "markdown",
   "metadata": {},
   "source": [
    "<h3> Creating a new text file and writing to it </h3>"
   ]
  },
  {
   "cell_type": "code",
   "execution_count": null,
   "metadata": {},
   "outputs": [],
   "source": [
    "f = open(\"newfile.txt\",\"x\")\n",
    "f = open(\"newfile.txt\",\"w\")\n",
    "f.write(\"Hello World!!!\")\n",
    "f.close()"
   ]
  },
  {
   "cell_type": "markdown",
   "metadata": {},
   "source": [
    "<h2> Exercise questions for RegEx and File Handling </h2>\n",
    "\n"
   ]
  },
  {
   "cell_type": "markdown",
   "metadata": {},
   "source": [
    "Your task is to extract all the dates that are present in the text file 'scraping_regex.txt'"
   ]
  },
  {
   "cell_type": "markdown",
   "metadata": {},
   "source": [
    "<h2> Usage of pip </h2>\n",
    "\n",
    "pip is a package management system used to install and manage software packages written in Python. Many packages can be found in the Python Package Index. Python 2.7.9 and later, and Python 3.4 and later include pip by default. All frameworks and dependencies required by Python can be installed using pip."
   ]
  },
  {
   "cell_type": "code",
   "execution_count": null,
   "metadata": {},
   "outputs": [],
   "source": [
    "!pip install package_name"
   ]
  },
  {
   "cell_type": "code",
   "execution_count": null,
   "metadata": {},
   "outputs": [],
   "source": [
    "!sudo pip install package_name"
   ]
  }
 ],
 "metadata": {
  "kernelspec": {
   "display_name": "Python 3",
   "language": "python",
   "name": "python3"
  },
  "language_info": {
   "codemirror_mode": {
    "name": "ipython",
    "version": 3
   },
   "file_extension": ".py",
   "mimetype": "text/x-python",
   "name": "python",
   "nbconvert_exporter": "python",
   "pygments_lexer": "ipython3",
   "version": "3.6.8"
  }
 },
 "nbformat": 4,
 "nbformat_minor": 2
}
